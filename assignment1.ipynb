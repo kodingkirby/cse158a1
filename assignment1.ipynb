{
 "cells": [
  {
   "cell_type": "markdown",
   "metadata": {},
   "source": [
    "### Helper Code"
   ]
  },
  {
   "cell_type": "code",
   "execution_count": 8,
   "metadata": {},
   "outputs": [],
   "source": [
    "import gzip\n",
    "from collections import defaultdict\n",
    "from multiprocessing import Lock, Process, Queue, current_process, Pool\n",
    "import random\n",
    "from tqdm import tqdm, tnrange, tqdm_notebook\n",
    "import time\n",
    "import sys\n",
    "#import queue # imported for using queue.Empty exception"
   ]
  },
  {
   "cell_type": "code",
   "execution_count": 9,
   "metadata": {},
   "outputs": [],
   "source": [
    "import numpy as np\n",
    "import scipy as sp\n",
    "import sklearn\n",
    "import matplotlib\n",
    "import math"
   ]
  },
  {
   "cell_type": "code",
   "execution_count": 10,
   "metadata": {},
   "outputs": [],
   "source": [
    "def readGz(f):\n",
    "  for l in gzip.open(f):\n",
    "    yield eval(l)"
   ]
  },
  {
   "cell_type": "markdown",
   "metadata": {},
   "source": [
    "# Tasks: Purchase Prediction"
   ]
  },
  {
   "cell_type": "code",
   "execution_count": 11,
   "metadata": {},
   "outputs": [],
   "source": [
    "#generate list of possible choices to pick from for users\n",
    "allUsers = set([])\n",
    "allItems = set([])\n",
    "\n",
    "for l in readGz(\"train.json.gz\"):\n",
    "    user,item = l['reviewerID'],l['itemID']\n",
    "    allUsers.add(user)\n",
    "    allItems.add(item)\n",
    " "
   ]
  },
  {
   "cell_type": "code",
   "execution_count": 12,
   "metadata": {},
   "outputs": [
    {
     "name": "stdout",
     "output_type": "stream",
     "text": [
      "Done\n"
     ]
    }
   ],
   "source": [
    "# optionally save it to disk (Also practicing parallelism \n",
    "# here, it will be useful later on)\n",
    "persist = False\n",
    "processes = []\n",
    "\n",
    "if persist:\n",
    "    def save_items():\n",
    "        itemsSet = open(\"items_set.txt\", 'w')\n",
    "        for l in allItems:\n",
    "            itemsSet.write(l + '\\n')\n",
    "        itemsSet.close()\n",
    "        \n",
    "    def save_users():\n",
    "        usersSet = open(\"users_set.txt\", 'w')\n",
    "        for l in allUsers:\n",
    "            usersSet.write(l + '\\n')\n",
    "        usersSet.close()\n",
    "        \n",
    "    def parallel_execute():\n",
    "        p = Process(target=save_items)\n",
    "        q = Process(target=save_users)\n",
    "        processes.append(p)\n",
    "        processes.append(q)\n",
    "        p.start()\n",
    "        q.start()\n",
    "        p.join() # comment this out to allow other cells to run\n",
    "        q.join() # ''\n",
    "        #p.close()\n",
    "        #q.close()\n",
    "    parallel_execute()\n",
    "    \n",
    "uniqueUsers = list(allUsers)\n",
    "uniqueItems = list(allItems)\n",
    "print('Done') # should let me run other cells while jobs finish"
   ]
  },
  {
   "cell_type": "code",
   "execution_count": 13,
   "metadata": {},
   "outputs": [],
   "source": [
    "# load sets of data in memory\n",
    "train_200k = []\n",
    "purchases_200k = []\n",
    "#pbar = tqdm_notebook(total=200000, desc='Progress:')\n",
    "\n",
    "for l in readGz(\"train.json.gz\"):\n",
    "    train_200k.append(l)\n",
    "    user,item = l['reviewerID'],l['itemID']\n",
    "    # appending as tuple to allow hash collision detection\n",
    "    # later on down the line\n",
    "    purchases_200k.append((user,item))\n",
    "    #pbar.update(1)\n",
    "#pbar.close()"
   ]
  },
  {
   "cell_type": "code",
   "execution_count": 28,
   "metadata": {},
   "outputs": [],
   "source": [
    "#Load presaved data\n",
    "random.shuffle(train_200k)\n",
    "random.shuffle(purchases_200k)\n",
    "train_100k = train_200k[:100000]\n",
    "validation_positives = purchases_200k[100000:]\n",
    "\n",
    "v_negs = []\n",
    "for l in open(\"validation_negatives.txt\"):\n",
    "    obj = l.split('\\'')[1::2]\n",
    "    v_negs.append(tuple(obj))\n",
    "validation_negatives = v_negs"
   ]
  },
  {
   "cell_type": "code",
   "execution_count": 29,
   "metadata": {},
   "outputs": [],
   "source": [
    "v_set = validation_positives + validation_negatives"
   ]
  },
  {
   "cell_type": "code",
   "execution_count": 30,
   "metadata": {},
   "outputs": [],
   "source": [
    "### Would-purchase baseline: just rank which items are popular\n",
    "\n",
    "items_purchased = defaultdict(int)\n",
    "total_purchases = 0\n",
    "\n",
    "for l in train_100k:\n",
    "    item = l['itemID']\n",
    "    items_purchased[item] += 1\n",
    "    total_purchases += 1\n",
    "\n",
    "mostPopular = [(items_purchased[x], x) for x in items_purchased]\n",
    "mostPopular.sort()\n",
    "mostPopular.reverse()\n",
    "\n",
    "return1 = set()\n",
    "count = 0\n",
    "for ic, i in mostPopular:\n",
    "    count += ic\n",
    "    return1.add(i)\n",
    "    if count > total_purchases/2: break\n",
    "\n",
    "predictions = []\n",
    "for u,i in v_set:\n",
    "    if i in return1:\n",
    "        predictions.append(1)\n",
    "    else:\n",
    "        predictions.append(0)"
   ]
  },
  {
   "cell_type": "code",
   "execution_count": 27,
   "metadata": {},
   "outputs": [],
   "source": [
    "pairs_Purchase_list = []\n",
    "for l in open(\"pairs_Purchase.txt\"):\n",
    "    if l.startswith(\"reviewerID\"):\n",
    "        #header\n",
    "        continue\n",
    "    u,i = l.strip().split('-')\n",
    "    obj = tuple([u,i])\n",
    "    pairs_Purchase_list.append(obj)"
   ]
  },
  {
   "cell_type": "code",
   "execution_count": null,
   "metadata": {},
   "outputs": [],
   "source": [
    "user_cat_tup_array = [] # [('UserID', 'category'), ]\n",
    "#pbar = tqdm_notebook(total=28000, desc='Progress:')\n",
    "\n",
    "for l in pairs_Purchase_list: # [(userID,itemID)]\n",
    "    u_id = l[0]\n",
    "    i_id = l[1]\n",
    "    #ui_tup = tuple([u_id,i_id])\n",
    "\n",
    "    for k in train_200k:\n",
    "        if i_id == k['itemID']:\n",
    "            c_id = k['categoryID']\n",
    "            break\n",
    "        else:\n",
    "            c_id = 0 # if category is unknown, assume the most popular\n",
    "                    # which is women (0)\n",
    "                \n",
    "    user_cat_tup_array.append(tuple([u_id, c_id]))\n",
    "    #pbar.update(1)\n",
    "#pbar.close()\n",
    "print('Generated user_cat_tup_array [(userID, category),]')"
   ]
  },
  {
   "cell_type": "code",
   "execution_count": null,
   "metadata": {},
   "outputs": [],
   "source": [
    "counter = 0\n",
    "predictions = []\n",
    "pbar = tqdm_notebook(total=28000, desc='Progress:')\n",
    "\n",
    "for t in user_cat_tup_array: # 28k times\n",
    "    if t in user_categories:\n",
    "        predictions.append(1)\n",
    "        counter +=1\n",
    "    else:\n",
    "        predictions.append(0)\n",
    "    pbar.update(1)\n",
    "pbar.close()"
   ]
  },
  {
   "cell_type": "code",
   "execution_count": null,
   "metadata": {},
   "outputs": [],
   "source": [
    "zipped = list(zip(pairs_Purchase_list, predictions))\n",
    "file = open('q4_results.txt', 'w')\n",
    "file.write('reviewerID-itemID,prediction\\n')\n",
    "for l in zipped:\n",
    "    file.write(str(l[0][0]) + '-' + str(l[0][1]) + ',' + str(l[1]) + '\\n')\n",
    "file.close()\n",
    "print('done')"
   ]
  },
  {
   "cell_type": "code",
   "execution_count": null,
   "metadata": {},
   "outputs": [],
   "source": []
  }
 ],
 "metadata": {
  "kernelspec": {
   "display_name": "Python [conda env:py37]",
   "language": "python",
   "name": "conda-env-py37-py"
  },
  "language_info": {
   "codemirror_mode": {
    "name": "ipython",
    "version": 2
   },
   "file_extension": ".py",
   "mimetype": "text/x-python",
   "name": "python",
   "nbconvert_exporter": "python",
   "pygments_lexer": "ipython2",
   "version": "2.7.15"
  }
 },
 "nbformat": 4,
 "nbformat_minor": 2
}
